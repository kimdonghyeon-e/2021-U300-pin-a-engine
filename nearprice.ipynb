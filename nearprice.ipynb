{
 "cells": [
  {
   "cell_type": "code",
   "execution_count": 1,
   "source": [
    "#mysql접속용 기초 구성\r\n",
    "import pymysql\r\n",
    "\r\n",
    "db = pymysql.Connect(host='localhost', user='root', password='ROOTuser1234', database='fdtest')\r\n",
    "cusor = db.cursor()"
   ],
   "outputs": [],
   "metadata": {}
  },
  {
   "cell_type": "code",
   "execution_count": 23,
   "source": [
    "#mysql접속해서 테이블 리스트 뽑아오기\r\n",
    "query = \"select * from item\"\r\n",
    "# query = \"insert into item values(1,12345,'카네이션','빨간색')\"\r\n",
    "# query = \"insert into item values(2,23456,'프리지아','하얀색')\"\r\n",
    "# query = \"insert into item values(3,34567,'목련','하얀색')\"\r\n",
    "# query = \"insert into item values(4,45678,'장미','빨간색')\"\r\n",
    "# query = \"insert into item values(5,12356,'아카시아','보라색')\"\r\n",
    "cusor.execute(query)\r\n",
    "result = cusor.fetchall()\r\n",
    "\r\n",
    "result"
   ],
   "outputs": [
    {
     "output_type": "execute_result",
     "data": {
      "text/plain": [
       "((1, 12345, '카네이션', '빨간색'),\n",
       " (2, 23456, '프리지아', '하얀색'),\n",
       " (3, 34567, '목련', '하얀색'),\n",
       " (4, 45678, '장미', '빨간색'),\n",
       " (5, 12356, '아카시아', '보라색'))"
      ]
     },
     "metadata": {},
     "execution_count": 23
    }
   ],
   "metadata": {}
  },
  {
   "cell_type": "code",
   "execution_count": 24,
   "source": [
    "#구매예측값\r\n",
    "nearprice = 12345"
   ],
   "outputs": [],
   "metadata": {}
  },
  {
   "cell_type": "code",
   "execution_count": 25,
   "source": [
    "#상품 넣을 배열\r\n",
    "nearitem = list(range(0))"
   ],
   "outputs": [],
   "metadata": {}
  },
  {
   "cell_type": "code",
   "execution_count": 26,
   "source": [
    "#구매예측값 +-10% 상품 찾아서 배열에 넣기\r\n",
    "for priceloop in range(len(result)) :\r\n",
    "    if (result[priceloop][1] >= nearprice-(nearprice/10)) & (result[priceloop][1] <= nearprice+(nearprice/10)) :\r\n",
    "        nearitem.append(result[priceloop][0])\r\n",
    "\r\n",
    "nearitem"
   ],
   "outputs": [
    {
     "output_type": "execute_result",
     "data": {
      "text/plain": [
       "[1, 5]"
      ]
     },
     "metadata": {},
     "execution_count": 26
    }
   ],
   "metadata": {}
  },
  {
   "cell_type": "code",
   "execution_count": null,
   "source": [],
   "outputs": [],
   "metadata": {}
  }
 ],
 "metadata": {
  "orig_nbformat": 4,
  "language_info": {
   "name": "python",
   "version": "3.8.5",
   "mimetype": "text/x-python",
   "codemirror_mode": {
    "name": "ipython",
    "version": 3
   },
   "pygments_lexer": "ipython3",
   "nbconvert_exporter": "python",
   "file_extension": ".py"
  },
  "kernelspec": {
   "name": "python3",
   "display_name": "Python 3.8.5 64-bit ('base': conda)"
  },
  "interpreter": {
   "hash": "7e6562c6b5b6977d4c6517f2961eed41405a35b77e49e1d5223c86d89246fb40"
  }
 },
 "nbformat": 4,
 "nbformat_minor": 2
}