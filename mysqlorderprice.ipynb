{
 "cells": [
  {
   "cell_type": "code",
   "execution_count": 1,
   "source": [
    "#mysql접속용 기초 구성\n",
    "import pymysql\n",
    "\n",
    "db = pymysql.Connect(host='localhost', user='root', password='ROOTuser1234', database='fdtest')\n",
    "cusor = db.cursor()"
   ],
   "outputs": [],
   "metadata": {}
  },
  {
   "cell_type": "code",
   "execution_count": 4,
   "source": [
    "#price 테이블 생성\n",
    "# make_query = \"CREATE TABLE `price` (price_id varchar(30), id varchar(30), price_picture varchar(30), title varchar(30), little_title varchar(50), discount int(10), flower_price int(10), deliver_price int(10), size int(10), flower_name varchar(30), grade int(10), color varchar(20), PRIMARY KEY (price_id)); \"\n",
    "# cusor.execute(make_query)\n",
    "\n",
    "# result = cusor.fetchall()\n",
    "# print(result)"
   ],
   "outputs": [
    {
     "output_type": "stream",
     "name": "stdout",
     "text": [
      "()\n"
     ]
    }
   ],
   "metadata": {}
  },
  {
   "cell_type": "code",
   "execution_count": 9,
   "source": [
    "# query = \"insert into purchase values('test', 34567)\"\n",
    "# cusor.execute(query)\n",
    "# result = cusor.fetchall()\n",
    "\n",
    "# print(result)"
   ],
   "outputs": [
    {
     "output_type": "stream",
     "name": "stdout",
     "text": [
      "()\n"
     ]
    }
   ],
   "metadata": {}
  },
  {
   "cell_type": "code",
   "execution_count": 10,
   "source": [
    "#mysql접속해서 테이블 리스트 뽑아오기\n",
    "#백엔드 데베에 맞게 수정안함\n",
    "query = \"select price from purchase where user_id = 'test'\"\n",
    "cusor.execute(query)\n",
    "result = cusor.fetchall()\n",
    "\n",
    "print(result)"
   ],
   "outputs": [
    {
     "output_type": "stream",
     "name": "stdout",
     "text": [
      "((12345,), (23456,), (34567,))\n"
     ]
    }
   ],
   "metadata": {}
  },
  {
   "cell_type": "code",
   "execution_count": 12,
   "source": [
    "#가중평균 설정(최신일수록 더 큰 가중치)\n",
    "weight = list(range(0))\n",
    "for weightloop in range(len(result)) :\n",
    "    weight.insert(weightloop, 1+weightloop)\n",
    "\n",
    "weight"
   ],
   "outputs": [
    {
     "output_type": "execute_result",
     "data": {
      "text/plain": [
       "[1, 2, 3]"
      ]
     },
     "metadata": {},
     "execution_count": 12
    }
   ],
   "metadata": {}
  },
  {
   "cell_type": "code",
   "execution_count": 19,
   "source": [
    "#가중평균 구하기\n",
    "print(round(1.0*sum([result[i][0]*weight[i] for i in range(len(weight))])/sum(weight), 1))"
   ],
   "outputs": [
    {
     "output_type": "stream",
     "name": "stdout",
     "text": [
      "27159.7\n"
     ]
    }
   ],
   "metadata": {}
  },
  {
   "cell_type": "code",
   "execution_count": null,
   "source": [],
   "outputs": [],
   "metadata": {}
  }
 ],
 "metadata": {
  "orig_nbformat": 4,
  "language_info": {
   "name": "python",
   "version": "3.8.5",
   "mimetype": "text/x-python",
   "codemirror_mode": {
    "name": "ipython",
    "version": 3
   },
   "pygments_lexer": "ipython3",
   "nbconvert_exporter": "python",
   "file_extension": ".py"
  },
  "kernelspec": {
   "name": "python3",
   "display_name": "Python 3.8.5 64-bit ('base': conda)"
  },
  "interpreter": {
   "hash": "7e6562c6b5b6977d4c6517f2961eed41405a35b77e49e1d5223c86d89246fb40"
  }
 },
 "nbformat": 4,
 "nbformat_minor": 2
}