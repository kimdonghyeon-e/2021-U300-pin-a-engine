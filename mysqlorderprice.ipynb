{
 "cells": [
  {
   "cell_type": "code",
   "execution_count": 1,
   "source": [
    "#mysql접속용 기초 구성\r\n",
    "import pymysql\r\n",
    "\r\n",
    "db = pymysql.Connect(host='localhost', user='root', password='ROOTuser1234', database='fdtest')\r\n",
    "cusor = db.cursor()"
   ],
   "outputs": [],
   "metadata": {}
  },
  {
   "cell_type": "code",
   "execution_count": 4,
   "source": [
    "#만약 테이블 없으면 직접 만듬\r\n",
    "make_query = \"CREATE TABLE IF NOT EXISTS `purchase` (user_id varchar(50), price int(10)); \"\r\n",
    "cusor.execute(make_query)\r\n",
    "\r\n",
    "result = cusor.fetchall()\r\n",
    "print(result)"
   ],
   "outputs": [
    {
     "output_type": "stream",
     "name": "stdout",
     "text": [
      "()\n"
     ]
    }
   ],
   "metadata": {}
  },
  {
   "cell_type": "code",
   "execution_count": 8,
   "source": [
    "# query = \"insert into purchase values('test', 34567)\"\r\n",
    "# cusor.execute(query)\r\n",
    "# result = cusor.fetchall()\r\n",
    "\r\n",
    "# print(result)"
   ],
   "outputs": [
    {
     "output_type": "stream",
     "name": "stdout",
     "text": [
      "()\n"
     ]
    }
   ],
   "metadata": {}
  },
  {
   "cell_type": "code",
   "execution_count": 9,
   "source": [
    "#mysql접속해서 테이블 리스트 뽑아오기\r\n",
    "query = \"select price from purchase where user_id = 'test'\"\r\n",
    "cusor.execute(query)\r\n",
    "result = cusor.fetchall()\r\n",
    "\r\n",
    "print(result)"
   ],
   "outputs": [
    {
     "output_type": "stream",
     "name": "stdout",
     "text": [
      "((12345,), (23456,), (34567,))\n"
     ]
    }
   ],
   "metadata": {}
  },
  {
   "cell_type": "code",
   "execution_count": 13,
   "source": [],
   "outputs": [
    {
     "output_type": "execute_result",
     "data": {
      "text/plain": [
       "23456"
      ]
     },
     "metadata": {},
     "execution_count": 13
    }
   ],
   "metadata": {}
  },
  {
   "cell_type": "code",
   "execution_count": 15,
   "source": [
    "#가중평균 구하기(지금은 3개 기준으로 함)\r\n",
    "weight = [3, 5, 7]\r\n",
    "print(round(1.0*sum([result[i][0]*weight[i] for i in range(3)])/sum(weight), 1))"
   ],
   "outputs": [
    {
     "output_type": "stream",
     "name": "stdout",
     "text": [
      "26418.9\n"
     ]
    }
   ],
   "metadata": {}
  },
  {
   "cell_type": "code",
   "execution_count": null,
   "source": [],
   "outputs": [],
   "metadata": {}
  }
 ],
 "metadata": {
  "orig_nbformat": 4,
  "language_info": {
   "name": "python",
   "version": "3.8.5",
   "mimetype": "text/x-python",
   "codemirror_mode": {
    "name": "ipython",
    "version": 3
   },
   "pygments_lexer": "ipython3",
   "nbconvert_exporter": "python",
   "file_extension": ".py"
  },
  "kernelspec": {
   "name": "python3",
   "display_name": "Python 3.8.5 64-bit ('base': conda)"
  },
  "interpreter": {
   "hash": "7e6562c6b5b6977d4c6517f2961eed41405a35b77e49e1d5223c86d89246fb40"
  }
 },
 "nbformat": 4,
 "nbformat_minor": 2
}