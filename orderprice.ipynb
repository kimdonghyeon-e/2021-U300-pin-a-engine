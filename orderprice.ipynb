{
 "cells": [
  {
   "cell_type": "code",
   "execution_count": 1,
   "source": [
    "# pip install pymongo"
   ],
   "outputs": [
    {
     "output_type": "stream",
     "name": "stdout",
     "text": [
      "Collecting pymongo\n",
      "  Downloading pymongo-3.12.0-cp38-cp38-win_amd64.whl (397 kB)\n",
      "Installing collected packages: pymongo\n",
      "Successfully installed pymongo-3.12.0\n",
      "Note: you may need to restart the kernel to use updated packages.\n"
     ]
    }
   ],
   "metadata": {}
  },
  {
   "cell_type": "code",
   "execution_count": 2,
   "source": [
    "#몽고db접속용 기초 구성\r\n",
    "from pymongo import MongoClient\r\n",
    "client = MongoClient('localhost', 27017)\r\n",
    "db = client.fdtest"
   ],
   "outputs": [],
   "metadata": {}
  },
  {
   "cell_type": "code",
   "execution_count": 3,
   "source": [
    "# doc = {\r\n",
    "#     'user_id' : \"test\",\r\n",
    "#     'orderid' : \"abcde\",\r\n",
    "#     'price' : 23184,\r\n",
    "# }"
   ],
   "outputs": [],
   "metadata": {}
  },
  {
   "cell_type": "code",
   "execution_count": 4,
   "source": [
    "# db.fdtest.insert_one(doc)"
   ],
   "outputs": [],
   "metadata": {}
  },
  {
   "cell_type": "code",
   "execution_count": 5,
   "source": [
    "#몽고db에서 데이터 뽑아오기\r\n",
    "purchase_price = list(db.fdtest.find({'user_id' : \"test\"}, {'_id':False}))"
   ],
   "outputs": [],
   "metadata": {}
  },
  {
   "cell_type": "code",
   "execution_count": 6,
   "source": [
    "#데이터 확인\r\n",
    "print(purchase_price)"
   ],
   "outputs": [
    {
     "output_type": "stream",
     "name": "stdout",
     "text": [
      "[{'user_id': 'test', 'orderid': 'abcde', 'price': 12342}, {'user_id': 'test', 'orderid': 'abcde', 'price': 12023}, {'user_id': 'test', 'orderid': 'abcde', 'price': 23184}]\n"
     ]
    }
   ],
   "metadata": {
    "scrolled": false
   }
  },
  {
   "cell_type": "code",
   "execution_count": 24,
   "source": [
    "#가격만 뽑기\r\n",
    "pricelist = list(range(0))\r\n",
    "for i in range(0, len(purchase_price)) :\r\n",
    "    pricelist.insert(i, list(purchase_price[i].values())[2:])\r\n",
    "print(pricelist)"
   ],
   "outputs": [
    {
     "output_type": "stream",
     "name": "stdout",
     "text": [
      "[[12342], [12023], [23184]]\n"
     ]
    }
   ],
   "metadata": {}
  },
  {
   "cell_type": "code",
   "execution_count": 30,
   "source": [
    "pricelist[1][0]"
   ],
   "outputs": [
    {
     "output_type": "execute_result",
     "data": {
      "text/plain": [
       "12023"
      ]
     },
     "metadata": {},
     "execution_count": 30
    }
   ],
   "metadata": {
    "scrolled": true
   }
  },
  {
   "cell_type": "code",
   "execution_count": 31,
   "source": [
    "#가중평균 구하기(지금은 3개 기준으로 함)\r\n",
    "weight = [3, 5, 7]\r\n",
    "print(round(1.0*sum([pricelist[i][0]*weight[i] for i in range(3)])/sum(weight), 1))"
   ],
   "outputs": [
    {
     "output_type": "stream",
     "name": "stdout",
     "text": [
      "17295.3\n"
     ]
    }
   ],
   "metadata": {}
  },
  {
   "cell_type": "code",
   "execution_count": null,
   "source": [],
   "outputs": [],
   "metadata": {}
  }
 ],
 "metadata": {
  "kernelspec": {
   "display_name": "Python 3",
   "language": "python",
   "name": "python3"
  },
  "language_info": {
   "codemirror_mode": {
    "name": "ipython",
    "version": 3
   },
   "file_extension": ".py",
   "mimetype": "text/x-python",
   "name": "python",
   "nbconvert_exporter": "python",
   "pygments_lexer": "ipython3",
   "version": "3.8.5"
  }
 },
 "nbformat": 4,
 "nbformat_minor": 4
}