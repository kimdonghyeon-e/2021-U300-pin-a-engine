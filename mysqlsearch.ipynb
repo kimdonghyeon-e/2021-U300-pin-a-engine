{
 "cells": [
  {
   "cell_type": "code",
   "execution_count": 2,
   "source": [
    "# pip install pymysql"
   ],
   "outputs": [
    {
     "output_type": "stream",
     "name": "stdout",
     "text": [
      "Collecting pymysql\n",
      "  Downloading PyMySQL-1.0.2-py3-none-any.whl (43 kB)\n",
      "Installing collected packages: pymysql\n",
      "Successfully installed pymysql-1.0.2\n",
      "Note: you may need to restart the kernel to use updated packages.\n"
     ]
    }
   ],
   "metadata": {}
  },
  {
   "cell_type": "code",
   "execution_count": 1,
   "source": [
    "#mysql접속용 기초 구성\n",
    "import pymysql\n",
    "\n",
    "db = pymysql.Connect(host='localhost', user='root', password='ROOTuser1234', database='fdtest')\n",
    "# db = pymysql.Connect(host='localhost', user='root', password='root', database='fdtest')\n",
    "cusor = db.cursor()"
   ],
   "outputs": [],
   "metadata": {}
  },
  {
   "cell_type": "code",
   "execution_count": 4,
   "source": [
    "#테이블 있을 떄 제거\n",
    "# qq = \"drop table item\"\n",
    "# cusor.execute(qq)\n",
    "\n",
    "# result = cusor.fetchall()\n",
    "# print(result)"
   ],
   "outputs": [
    {
     "output_type": "stream",
     "name": "stdout",
     "text": [
      "()\n"
     ]
    }
   ],
   "metadata": {}
  },
  {
   "cell_type": "code",
   "execution_count": 5,
   "source": [
    "#만약 테이블 없으면 직접 만듬\n",
    "make_query = \"CREATE TABLE IF NOT EXISTS `item` (serial int(10) AUTO_INCREMENT, price int(10), fltype varchar(100), flcolor varchar(100), PRIMARY KEY (serial)); \"\n",
    "cusor.execute(make_query)\n",
    "\n",
    "result = cusor.fetchall()\n",
    "print(result)"
   ],
   "outputs": [
    {
     "output_type": "stream",
     "name": "stdout",
     "text": [
      "()\n"
     ]
    }
   ],
   "metadata": {}
  },
  {
   "cell_type": "code",
   "execution_count": 11,
   "source": [
    "#mysql접속해서 테이블 리스트 뽑아오기\n",
    "query = \"select * from item\"\n",
    "# query = \"insert into item values(1,12345,'카네이션','빨간색')\"\n",
    "# query = \"insert into item values(2,23456,'프리지아','하얀색')\"\n",
    "# query = \"insert into item values(3,34567,'목련','하얀색')\"\n",
    "# query = \"insert into item values(4,45678,'장미','빨간색')\"\n",
    "cusor.execute(query)\n",
    "result = cusor.fetchall()\n",
    "\n",
    "print(result)\n",
    "\n",
    "result"
   ],
   "outputs": [
    {
     "output_type": "stream",
     "name": "stdout",
     "text": [
      "((1, 12345, '카네이션', '빨간색'), (2, 23456, '프리지아', '하얀색'), (3, 34567, '목련', '하얀색'), (4, 45678, '장미', '빨간색'))\n"
     ]
    },
    {
     "output_type": "execute_result",
     "data": {
      "text/plain": [
       "((1, 12345, '카네이션', '빨간색'),\n",
       " (2, 23456, '프리지아', '하얀색'),\n",
       " (3, 34567, '목련', '하얀색'),\n",
       " (4, 45678, '장미', '빨간색'))"
      ]
     },
     "metadata": {},
     "execution_count": 11
    }
   ],
   "metadata": {}
  },
  {
   "cell_type": "code",
   "execution_count": 17,
   "source": [
    "#문자열 분리 및 형태소 분석\n",
    "from konlpy.tag import Okt\n",
    "okt = Okt()\n",
    "malist = okt.pos(\"장미 빨간색 12345\", norm=True, stem=True)\n",
    "print(malist)\n",
    "for printloop in range(len(malist)) :\n",
    "    print(malist[printloop][0])"
   ],
   "outputs": [
    {
     "output_type": "stream",
     "name": "stdout",
     "text": [
      "[('장미', 'Noun'), ('빨간색', 'Noun'), ('12345', 'Number')]\n",
      "장미\n",
      "빨간색\n",
      "12345\n"
     ]
    }
   ],
   "metadata": {}
  },
  {
   "cell_type": "code",
   "execution_count": 18,
   "source": [
    "#형태소 일부 전처리\n",
    "colorlist = list(range(0))\n",
    "searchkeyword = list(range(0))\n",
    "for listloop in range(len(malist)) :\n",
    "    if \"색\" in malist[listloop][0] :\n",
    "        colorlist.insert(listloop, malist[listloop][0])\n",
    "    if not malist[listloop][1] in [\"Josa\", \"Eomi\", \"Punctuation\", \"Alpha\", \"KoreanParticle\"]:\n",
    "        flname = malist[listloop][0]\n",
    "        searchkeyword.insert(listloop, flname) \n",
    "print(colorlist)\n",
    "print(searchkeyword)"
   ],
   "outputs": [
    {
     "output_type": "stream",
     "name": "stdout",
     "text": [
      "['빨간색']\n",
      "['장미', '빨간색', '12345']\n"
     ]
    }
   ],
   "metadata": {}
  },
  {
   "cell_type": "code",
   "execution_count": 19,
   "source": [
    "#오류로 konlpy동작안해서 임의로 집어넣음\n",
    "# searchkeyword = ['프리지아', '하얀색', 12345]\n",
    "# searchkeyword"
   ],
   "outputs": [],
   "metadata": {}
  },
  {
   "cell_type": "code",
   "execution_count": 20,
   "source": [
    "#데이터마다 점수 메기기위한 리스트. [][0]에는 점수, [][1]에는 상품번호\n",
    "tablescore = [[0]*2 for i in range(len(result))]\n",
    "\n",
    "for makelist in range(len(result)) :\n",
    "    tablescore[makelist][1] = result[makelist][0]\n",
    "\n",
    "tablescore"
   ],
   "outputs": [
    {
     "output_type": "execute_result",
     "data": {
      "text/plain": [
       "[[0, 1], [0, 2], [0, 3], [0, 4]]"
      ]
     },
     "metadata": {},
     "execution_count": 20
    }
   ],
   "metadata": {}
  },
  {
   "cell_type": "code",
   "execution_count": 21,
   "source": [
    "#for문돌며 searchkeyword들을 테이블에서 찾아 점수 메기는 루프\n",
    "for keywordloop in range(len(searchkeyword)) :\n",
    "    for tableloop in range(len(result)) :\n",
    "        for searchloop in range(len(result[0])) :\n",
    "            if searchkeyword[keywordloop] == result[tableloop][searchloop] :\n",
    "                tablescore[tableloop][0] += 1\n",
    "\n",
    "tablescore\n"
   ],
   "outputs": [
    {
     "output_type": "execute_result",
     "data": {
      "text/plain": [
       "[[1, 1], [0, 2], [0, 3], [2, 4]]"
      ]
     },
     "metadata": {},
     "execution_count": 21
    }
   ],
   "metadata": {}
  },
  {
   "cell_type": "code",
   "execution_count": 22,
   "source": [
    "#점수별 정렬\n",
    "\n",
    "sorttbale = sorted(tablescore, key = lambda x : -x[0])\n",
    "\n",
    "sorttbale"
   ],
   "outputs": [
    {
     "output_type": "execute_result",
     "data": {
      "text/plain": [
       "[[2, 4], [1, 1], [0, 2], [0, 3]]"
      ]
     },
     "metadata": {},
     "execution_count": 22
    }
   ],
   "metadata": {}
  },
  {
   "cell_type": "code",
   "execution_count": null,
   "source": [],
   "outputs": [],
   "metadata": {}
  }
 ],
 "metadata": {
  "kernelspec": {
   "name": "python3",
   "display_name": "Python 3.8.5 64-bit ('base': conda)"
  },
  "language_info": {
   "codemirror_mode": {
    "name": "ipython",
    "version": 3
   },
   "file_extension": ".py",
   "mimetype": "text/x-python",
   "name": "python",
   "nbconvert_exporter": "python",
   "pygments_lexer": "ipython3",
   "version": "3.8.5"
  },
  "interpreter": {
   "hash": "9e90480b81b84b04bb2038dbf82fac28a223e5c2939bdb6803f6ea6c1143386f"
  }
 },
 "nbformat": 4,
 "nbformat_minor": 4
}