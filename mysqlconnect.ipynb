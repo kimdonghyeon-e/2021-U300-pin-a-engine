{
 "cells": [
  {
   "cell_type": "code",
   "execution_count": 2,
   "source": [
    "# pip install pymysql"
   ],
   "outputs": [
    {
     "output_type": "stream",
     "name": "stdout",
     "text": [
      "Collecting pymysql\n",
      "  Downloading PyMySQL-1.0.2-py3-none-any.whl (43 kB)\n",
      "Installing collected packages: pymysql\n",
      "Successfully installed pymysql-1.0.2\n",
      "Note: you may need to restart the kernel to use updated packages.\n"
     ]
    }
   ],
   "metadata": {}
  },
  {
   "cell_type": "code",
   "execution_count": 2,
   "source": [
    "import pymysql\r\n",
    "\r\n",
    "db = pymysql.Connect(host='localhost', user='root', password='ROOTuser1234', database='fdtest')\r\n",
    "# db = pymysql.Connect(host='localhost', user='root', password='root', database='fdtest')\r\n",
    "cusor = db.cursor()"
   ],
   "outputs": [],
   "metadata": {}
  },
  {
   "cell_type": "code",
   "execution_count": 3,
   "source": [
    "make_query = \"CREATE TABLE IF NOT EXISTS `item` (serial int(10) AUTO_INCREMENT, price int(10), fltype varchar(100), flcolor varchar(100), PRIMARY KEY (serial)); \"\r\n",
    "cusor.execute(make_query)\r\n",
    "\r\n",
    "result = cusor.fetchall()\r\n",
    "print(result)"
   ],
   "outputs": [
    {
     "output_type": "stream",
     "name": "stdout",
     "text": [
      "()\n"
     ]
    }
   ],
   "metadata": {}
  },
  {
   "cell_type": "code",
   "execution_count": 6,
   "source": [
    "query = \"select * from item\"\r\n",
    "# query = \"insert into item values(1,12345,'장미','빨간색')\"\r\n",
    "cusor.execute(query)\r\n",
    "result = cusor.fetchall()\r\n",
    "\r\n",
    "print(result)"
   ],
   "outputs": [
    {
     "output_type": "stream",
     "name": "stdout",
     "text": [
      "((1, 12345, '장미', '빨간색'),)\n"
     ]
    }
   ],
   "metadata": {}
  },
  {
   "cell_type": "code",
   "execution_count": null,
   "source": [],
   "outputs": [],
   "metadata": {}
  }
 ],
 "metadata": {
  "kernelspec": {
   "name": "python3",
   "display_name": "Python 3.8.5 64-bit ('base': conda)"
  },
  "language_info": {
   "codemirror_mode": {
    "name": "ipython",
    "version": 3
   },
   "file_extension": ".py",
   "mimetype": "text/x-python",
   "name": "python",
   "nbconvert_exporter": "python",
   "pygments_lexer": "ipython3",
   "version": "3.8.5"
  },
  "interpreter": {
   "hash": "7e6562c6b5b6977d4c6517f2961eed41405a35b77e49e1d5223c86d89246fb40"
  }
 },
 "nbformat": 4,
 "nbformat_minor": 4
}