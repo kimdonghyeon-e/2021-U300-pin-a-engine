{
 "cells": [
  {
   "cell_type": "code",
   "execution_count": 2,
   "source": [
    "#mysql접속용 기초 구성\n",
    "import pymysql\n",
    "\n",
    "db = pymysql.Connect(host='localhost', user='root', password='ROOTuser1234', database='fdtest')\n",
    "cusor = db.cursor()"
   ],
   "outputs": [],
   "metadata": {}
  },
  {
   "cell_type": "code",
   "execution_count": 3,
   "source": [
    "#만약 테이블 없으면 직접 만듬\n",
    "# make_query = \"CREATE TABLE IF NOT EXISTS `item` (serial int(10) AUTO_INCREMENT, price int(10), fltype varchar(100), flcolor varchar(100), PRIMARY KEY (serial)); \"\n",
    "# cusor.execute(make_query)\n",
    "\n",
    "# result = cusor.fetchall()\n",
    "# print(result)"
   ],
   "outputs": [
    {
     "output_type": "stream",
     "name": "stdout",
     "text": [
      "()\n"
     ]
    }
   ],
   "metadata": {}
  },
  {
   "cell_type": "code",
   "execution_count": 10,
   "source": [
    "#mysql접속해서 테이블 리스트 뽑아오기\n",
    "query = \"select * from price\"\n",
    "# query = \"insert into item values(4,45678,'프리지아','하얀색')\"\n",
    "cusor.execute(query)\n",
    "result = cusor.fetchall()\n",
    "\n",
    "print(result)"
   ],
   "outputs": [
    {
     "output_type": "stream",
     "name": "stdout",
     "text": [
      "((3, 34567, '카네이션', '빨간색'), (4, 45678, '프리지아', '하얀색'))\n"
     ]
    }
   ],
   "metadata": {}
  },
  {
   "cell_type": "code",
   "execution_count": 8,
   "source": [
    "#꽃 입력 받기\n",
    "searchflower = \"프리지아\""
   ],
   "outputs": [],
   "metadata": {}
  },
  {
   "cell_type": "code",
   "execution_count": null,
   "source": [
    "isflower = list(range(0))"
   ],
   "outputs": [],
   "metadata": {}
  },
  {
   "cell_type": "code",
   "execution_count": 9,
   "source": [
    "#꽃이 있으면 해당 상품 번호 출력\n",
    "for tableloop in range(len(result)) :\n",
    "    if searchflower == result[tableloop][9] :\n",
    "        print(result[tableloop][0])\n",
    "        isflower.insert(tableloop, result[tableloop][0])\n",
    "\n",
    "isflower"
   ],
   "outputs": [
    {
     "output_type": "stream",
     "name": "stdout",
     "text": [
      "4\n"
     ]
    }
   ],
   "metadata": {}
  },
  {
   "cell_type": "code",
   "execution_count": null,
   "source": [],
   "outputs": [],
   "metadata": {}
  }
 ],
 "metadata": {
  "orig_nbformat": 4,
  "language_info": {
   "name": "python",
   "version": "3.8.5",
   "mimetype": "text/x-python",
   "codemirror_mode": {
    "name": "ipython",
    "version": 3
   },
   "pygments_lexer": "ipython3",
   "nbconvert_exporter": "python",
   "file_extension": ".py"
  },
  "kernelspec": {
   "name": "python3",
   "display_name": "Python 3.8.5 64-bit ('base': conda)"
  },
  "interpreter": {
   "hash": "7e6562c6b5b6977d4c6517f2961eed41405a35b77e49e1d5223c86d89246fb40"
  }
 },
 "nbformat": 4,
 "nbformat_minor": 2
}