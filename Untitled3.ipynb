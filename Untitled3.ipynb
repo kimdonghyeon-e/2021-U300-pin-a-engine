{
 "cells": [
  {
   "cell_type": "code",
   "execution_count": 52,
   "metadata": {},
   "outputs": [
    {
     "name": "stdout",
     "output_type": "stream",
     "text": [
      "[('빨간색', 'Noun'), ('꽃', 'Noun')]\n"
     ]
    }
   ],
   "source": [
    "from konlpy.tag import Okt\n",
    "okt = Okt()\n",
    "malist = okt.pos(\"\", norm=True, stem=True)\n",
    "print(malist)"
   ]
  },
  {
   "cell_type": "code",
   "execution_count": 35,
   "metadata": {},
   "outputs": [
    {
     "name": "stdout",
     "output_type": "stream",
     "text": [
      "current - 0\n"
     ]
    }
   ],
   "source": [
    "import codecs\n",
    "from bs4 import BeautifulSoup\n",
    "from konlpy.tag import Okt\n",
    "from gensim.models import word2vec\n",
    "\n",
    "#파일 열기\n",
    "readFp = codecs.open(\"fdfl.txt\", \"r\", encoding=\"utf-8\")\n",
    "wakati_file = \"fdfl.wakati\"\n",
    "writeFp = open(wakati_file, \"w\", encoding=\"utf-8\")\n",
    "\n",
    "#형태소 분석\n",
    "okt = Okt()\n",
    "i=0\n",
    "#텍스트를 한 줄씩 처리하기\n",
    "while True:\n",
    "    line = readFp.readline()\n",
    "    if not line: break\n",
    "    if i%20000==0:\n",
    "        print(\"current - \"+str(i))\n",
    "    i+=1\n",
    "    #형태소 분석\n",
    "    malist = okt.pos(line, norm=True, stem=True)\n",
    "    #필요한 어구만 대상으로\n",
    "    r= []\n",
    "    for word in malist:\n",
    "        #어미/조사/구두점은 제외\n",
    "        if not word[1] in [\"Josa\", \"Eomi\", \"Punctuation\"]:\n",
    "            writeFp.write(word[0]+\" \")\n",
    "writeFp.close()"
   ]
  },
  {
   "cell_type": "code",
   "execution_count": 41,
   "metadata": {},
   "outputs": [
    {
     "name": "stdout",
     "output_type": "stream",
     "text": [
      "ok\n"
     ]
    }
   ],
   "source": [
    "from gensim.models import word2vec\n",
    "data = word2vec.Text8Corpus(\"fdfl.wakati\")\n",
    "model = word2vec.Word2Vec(data)\n",
    "model.save(\"fdfl.model\")\n",
    "print(\"ok\")"
   ]
  },
  {
   "cell_type": "code",
   "execution_count": 42,
   "metadata": {},
   "outputs": [],
   "source": [
    "import gensim\n",
    "from gensim.models import word2vec\n",
    "model = gensim.models.word2vec.Word2Vec.load('wikifl.model')"
   ]
  },
  {
   "cell_type": "code",
   "execution_count": 53,
   "metadata": {},
   "outputs": [
    {
     "name": "stdout",
     "output_type": "stream",
     "text": [
      "[('노란색', 0.8402338624000549), ('분홍색', 0.815307080745697), ('자주색', 0.7914254069328308), ('흰색', 0.7888329029083252), ('초록색', 0.7819138169288635), ('푸른색', 0.7807860374450684), ('보라색', 0.7650488615036011), ('은색', 0.7629172801971436), ('장미꽃', 0.7550121545791626), ('황금색', 0.7521612048149109)]\n"
     ]
    }
   ],
   "source": [
    "import gensim\n",
    "#from gensim.models import word2vec\n",
    "#model = gensim.models.word2vec.Word2Vec.load('wikifl.model')\n",
    "#print(model.wv.most_similar(positive=[\"Python\",\"파이썬\"]))\n",
    "print(model.wv.most_similar(positive=[\"빨간색\", \"꽃\"]))"
   ]
  },
  {
   "cell_type": "code",
   "execution_count": 55,
   "metadata": {},
   "outputs": [
    {
     "name": "stdout",
     "output_type": "stream",
     "text": [
      "0.42271423\n"
     ]
    }
   ],
   "source": [
    "word_vectors = model.wv\n",
    "print(word_vectors.similarity(w1='노란색', w2='장미'))"
   ]
  },
  {
   "cell_type": "code",
   "execution_count": null,
   "metadata": {},
   "outputs": [],
   "source": []
  }
 ],
 "metadata": {
  "kernelspec": {
   "display_name": "Python 3",
   "language": "python",
   "name": "python3"
  },
  "language_info": {
   "codemirror_mode": {
    "name": "ipython",
    "version": 3
   },
   "file_extension": ".py",
   "mimetype": "text/x-python",
   "name": "python",
   "nbconvert_exporter": "python",
   "pygments_lexer": "ipython3",
   "version": "3.8.5"
  }
 },
 "nbformat": 4,
 "nbformat_minor": 4
}
